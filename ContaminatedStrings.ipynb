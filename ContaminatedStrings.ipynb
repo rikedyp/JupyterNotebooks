{
 "cells": [
  {
   "cell_type": "markdown",
   "metadata": {},
   "source": [
    "# Contaminated strings"
   ]
  },
  {
   "cell_type": "markdown",
   "metadata": {},
   "source": [
    "From a response to \n",
    "<center>\n",
    "<a target=\"_blank\" rel=\"noopener noreferrer\" href=\"http://www.youtube.com/watch?v=oHCBFrEglMA\"><img alt=\"Video: Solving Week 83 of Perl Weekly Challenge in APL\" src=\"https://github.com/rikedyp/JupyterNotebooks/raw/master/img/PWC83.png\" width=\"500px\"></a>\n",
    "</center>"
   ]
  },
  {
   "cell_type": "markdown",
   "metadata": {},
   "source": [
    "<pre>\n",
    "    Hello. Small additional challenge: When there is a star in a string, it is contaminated. 'ab*' -> '***'.  \n",
    "    s ← 'ab' 'c*dD' 'eEE*' '**' 'h' will give 'ab'  '****'  '****'  '**' 'h'  \n",
    "    First idea : (v/s)←(⍴¨(v←'*'∊¨s)/s)⍴¨'*'  \n",
    "    Or : virus←{(v/s)←(⍴¨(v←'*'∊¨s)/s←⍵)⍴¨'*'⋄s}  \n",
    "    Would you have a better solution? Thanks\n",
    "</pre>    \n",
    "\n",
    "<a target=\"_blank\" rel=\"noopener noreferrer\" href=\"https://www.youtube.com/channel/UCIveI1ySN5FBe4GyiIJCDig\">Schraf : Maths-info</a>"
   ]
  },
  {
   "cell_type": "markdown",
   "metadata": {},
   "source": [
    "First, let's define some inputs:"
   ]
  },
  {
   "cell_type": "code",
   "execution_count": 1,
   "metadata": {},
   "outputs": [],
   "source": [
    "small   ← 'ab' 'c*dD' 'eEE*' '**' 'h'\n",
    "MakeArg ← {⍺←42 ⋄ ⎕RL←⍺ ⋄ (⎕A,'*')⊂⍤⌷⍤0 99⍨?∘27¨(?⍵⍴10)}\n",
    "medium  ← MakeArg 1000\n",
    "large   ← MakeArg 100000"
   ]
  },
  {
   "cell_type": "markdown",
   "metadata": {},
   "source": [
    "I am going to rephrase Schraf's solution slightly, to my own taste:"
   ]
  },
  {
   "cell_type": "code",
   "execution_count": 2,
   "metadata": {},
   "outputs": [
    {
     "data": {
      "text/html": [
       "<span style=\"white-space:pre; font-family: monospace\">┌──┬────┬────┬──┬─┐\n",
       "│ab│****│****│**│h│\n",
       "└──┴────┴────┴──┴─┘\n",
       "</span>"
      ]
     },
     "execution_count": 2,
     "metadata": {},
     "output_type": "execute_result"
    }
   ],
   "source": [
    "Schraf ← {s←⍵ ⋄ m←⍺∘∊¨s ⋄ (m⌿s)←m⌿⍴∘⍺¨≢¨s ⋄ s}\n",
    "'*' Schraf small"
   ]
  },
  {
   "cell_type": "markdown",
   "metadata": {},
   "source": [
    "For some people, using a guard might feel more natural if we have to apply to each of a nested vector:"
   ]
  },
  {
   "cell_type": "code",
   "execution_count": 3,
   "metadata": {},
   "outputs": [
    {
     "data": {
      "text/html": [
       "<span style=\"white-space:pre; font-family: monospace\">┌──┬────┬────┬──┬─┐\n",
       "│ab│****│****│**│h│\n",
       "└──┴────┴────┴──┴─┘\n",
       "</span>"
      ]
     },
     "execution_count": 3,
     "metadata": {},
     "output_type": "execute_result"
    }
   ],
   "source": [
    "Guard ← {⍺∊⍵: ⍺⍴⍨≢⍵ ⋄ ⍵}   ⍝ If there is a star, ≢⍵ stars, else ⍵\n",
    "'*'∘Guard¨ small"
   ]
  },
  {
   "cell_type": "markdown",
   "metadata": {},
   "source": [
    "If it is possible to do so, using flat rectangular arrays can be more performant: "
   ]
  },
  {
   "cell_type": "code",
   "execution_count": 4,
   "metadata": {},
   "outputs": [
    {
     "data": {
      "text/html": [
       "<span style=\"white-space:pre; font-family: monospace\">ab  \n",
       "****\n",
       "****\n",
       "**  \n",
       "h   \n",
       "</span>"
      ]
     },
     "execution_count": 4,
     "metadata": {},
     "output_type": "execute_result"
    }
   ],
   "source": [
    "Flat ← {m←⍺∨/⍤=s←⍵ ⋄ (m⌿s)←m⌿⍺⍴⍤0⍨+/' '≠s ⋄ s}\n",
    "flatsmall ← ↑small\n",
    "'*' Flat flatsmall"
   ]
  },
  {
   "cell_type": "code",
   "execution_count": 5,
   "metadata": {},
   "outputs": [
    {
     "data": {
      "text/html": [
       "<span style=\"white-space:pre; font-family: monospace\">                                                                              \n",
       "  '*'Schraf small    → 3.2E¯6 |   0% ⎕⎕⎕⎕⎕⎕⎕⎕⎕⎕⎕⎕⎕⎕⎕⎕⎕⎕⎕⎕⎕⎕⎕⎕⎕⎕⎕⎕⎕⎕⎕⎕⎕⎕⎕⎕⎕⎕⎕  \n",
       "  '*'∘Guard¨small    → 2.2E¯6 | -33% ⎕⎕⎕⎕⎕⎕⎕⎕⎕⎕⎕⎕⎕⎕⎕⎕⎕⎕⎕⎕⎕⎕⎕⎕⎕⎕⎕              \n",
       "* '*' Flat flatsmall → 3.3E¯6 |  +1% ⎕⎕⎕⎕⎕⎕⎕⎕⎕⎕⎕⎕⎕⎕⎕⎕⎕⎕⎕⎕⎕⎕⎕⎕⎕⎕⎕⎕⎕⎕⎕⎕⎕⎕⎕⎕⎕⎕⎕⎕ \n",
       "</span>"
      ]
     },
     "execution_count": 5,
     "metadata": {},
     "output_type": "execute_result"
    }
   ],
   "source": [
    "]runtime -c \"'*'Schraf small\" \"'*'∘Guard¨small\" \"'*' Flat flatsmall\""
   ]
  },
  {
   "cell_type": "markdown",
   "metadata": {},
   "source": [
    "... but not always.  \n",
    "Be aware that `]runtime` differences of <10% aren't particularly reliable. This is my assertion, although possibly someone with more knowledge can give a more accurate margin of error."
   ]
  },
  {
   "cell_type": "markdown",
   "metadata": {},
   "source": [
    "Now let's see how medium and large sized inputs compare:"
   ]
  },
  {
   "cell_type": "code",
   "execution_count": 6,
   "metadata": {},
   "outputs": [],
   "source": [
    "flatmed   ← ↑ medium\n",
    "flatlarge ← ↑ large"
   ]
  },
  {
   "cell_type": "code",
   "execution_count": 7,
   "metadata": {},
   "outputs": [
    {
     "data": {
      "text/html": [
       "<span style=\"white-space:pre; font-family: monospace\">                                                                            \n",
       "  '*'Schraf medium → 2.1E¯4 |   0% ⎕⎕⎕⎕⎕⎕⎕⎕⎕⎕⎕⎕⎕⎕⎕⎕⎕⎕⎕⎕⎕⎕⎕⎕⎕⎕⎕⎕⎕⎕⎕⎕⎕⎕⎕⎕     \n",
       "  '*'∘Guard¨medium → 2.3E¯4 | +10% ⎕⎕⎕⎕⎕⎕⎕⎕⎕⎕⎕⎕⎕⎕⎕⎕⎕⎕⎕⎕⎕⎕⎕⎕⎕⎕⎕⎕⎕⎕⎕⎕⎕⎕⎕⎕⎕⎕⎕⎕ \n",
       "* '*' Flat flatmed → 1.5E¯4 | -30% ⎕⎕⎕⎕⎕⎕⎕⎕⎕⎕⎕⎕⎕⎕⎕⎕⎕⎕⎕⎕⎕⎕⎕⎕⎕⎕               \n",
       "</span>"
      ]
     },
     "execution_count": 7,
     "metadata": {},
     "output_type": "execute_result"
    }
   ],
   "source": [
    "]runtime -c \"'*'Schraf medium\" \"'*'∘Guard¨medium\" \"'*' Flat flatmed\""
   ]
  },
  {
   "cell_type": "code",
   "execution_count": 8,
   "metadata": {},
   "outputs": [
    {
     "data": {
      "text/html": [
       "<span style=\"white-space:pre; font-family: monospace\">                                                                              \n",
       "  '*'Schraf large    → 2.2E¯2 |   0% ⎕⎕⎕⎕⎕⎕⎕⎕⎕⎕⎕⎕⎕⎕⎕⎕⎕⎕⎕⎕⎕⎕⎕⎕⎕⎕⎕⎕⎕⎕⎕⎕         \n",
       "  '*'∘Guard¨large    → 2.8E¯2 | +24% ⎕⎕⎕⎕⎕⎕⎕⎕⎕⎕⎕⎕⎕⎕⎕⎕⎕⎕⎕⎕⎕⎕⎕⎕⎕⎕⎕⎕⎕⎕⎕⎕⎕⎕⎕⎕⎕⎕⎕⎕ \n",
       "* '*' Flat flatlarge → 1.6E¯2 | -28% ⎕⎕⎕⎕⎕⎕⎕⎕⎕⎕⎕⎕⎕⎕⎕⎕⎕⎕⎕⎕⎕⎕⎕                  \n",
       "</span>"
      ]
     },
     "execution_count": 8,
     "metadata": {},
     "output_type": "execute_result"
    }
   ],
   "source": [
    "]runtime -c \"'*'Schraf large\" \"'*'∘Guard¨large\" \"'*' Flat flatlarge\""
   ]
  },
  {
   "cell_type": "markdown",
   "metadata": {},
   "source": [
    "Of course there will be extra processing involved if we need a nested result for the flat version."
   ]
  },
  {
   "cell_type": "code",
   "execution_count": 9,
   "metadata": {},
   "outputs": [
    {
     "data": {
      "text/html": [
       "<span style=\"white-space:pre; font-family: monospace\">┌──┬────┬────┬──┬─┐\n",
       "│ab│****│****│**│h│\n",
       "└──┴────┴────┴──┴─┘\n",
       "</span>"
      ]
     },
     "execution_count": 9,
     "metadata": {},
     "output_type": "execute_result"
    }
   ],
   "source": [
    "~∘' '¨↓ '*'Flat ↑small"
   ]
  },
  {
   "cell_type": "code",
   "execution_count": 10,
   "metadata": {},
   "outputs": [
    {
     "data": {
      "text/html": [
       "<span style=\"white-space:pre; font-family: monospace\">                                                                                   \n",
       "  '*'Schraf large         → 2.2E¯2 |   0% ⎕⎕⎕⎕⎕⎕⎕⎕⎕⎕⎕⎕⎕⎕⎕⎕⎕⎕⎕⎕⎕⎕⎕⎕⎕⎕⎕⎕⎕⎕⎕⎕⎕⎕       \n",
       "  '*'∘Guard¨large         → 2.6E¯2 | +18% ⎕⎕⎕⎕⎕⎕⎕⎕⎕⎕⎕⎕⎕⎕⎕⎕⎕⎕⎕⎕⎕⎕⎕⎕⎕⎕⎕⎕⎕⎕⎕⎕⎕⎕⎕⎕⎕⎕⎕⎕ \n",
       "  ~∘' '¨↓ '*' Flat ↑large → 2.2E¯2 |  +2% ⎕⎕⎕⎕⎕⎕⎕⎕⎕⎕⎕⎕⎕⎕⎕⎕⎕⎕⎕⎕⎕⎕⎕⎕⎕⎕⎕⎕⎕⎕⎕⎕⎕⎕⎕      \n",
       "</span>"
      ]
     },
     "execution_count": 10,
     "metadata": {},
     "output_type": "execute_result"
    }
   ],
   "source": [
    "]runtime -c \"'*'Schraf large\" \"'*'∘Guard¨large\" \"~∘' '¨↓ '*' Flat ↑large\""
   ]
  }
 ],
 "metadata": {
  "kernelspec": {
   "display_name": "Dyalog APL",
   "language": "apl",
   "name": "dyalog-kernel"
  },
  "language_info": {
   "file_extension": ".apl",
   "mimetype": "text/apl",
   "name": "APL"
  }
 },
 "nbformat": 4,
 "nbformat_minor": 2
}
