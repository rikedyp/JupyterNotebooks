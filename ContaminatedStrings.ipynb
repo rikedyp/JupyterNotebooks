{
 "cells": [
  {
   "cell_type": "markdown",
   "metadata": {},
   "source": [
    "# Contaminated strings"
   ]
  },
  {
   "cell_type": "markdown",
   "metadata": {},
   "source": [
    "From a response to \n",
    "<center>\n",
    "<a target=\"_blank\" rel=\"noopener noreferrer\" href=\"http://www.youtube.com/watch?v=oHCBFrEglMA\"><img alt=\"Video: Solving Week 83 of Perl Weekly Challenge in APL\" src=\"https://github.com/rikedyp/JupyterNotebooks/raw/master/img/PWC83.png\" width=\"500px\"></a>\n",
    "</center>"
   ]
  },
  {
   "cell_type": "markdown",
   "metadata": {},
   "source": [
    "<pre>\n",
    "    Hello. Small additional challenge: When there is a star in a string, it is contaminated. 'ab*' -> '***'.  \n",
    "    s ← 'ab' 'c*dD' 'eEE*' '**' 'h' will give 'ab'  '****'  '****'  '**' 'h'  \n",
    "    First idea : (v/s)←(⍴¨(v←'*'∊¨s)/s)⍴¨'*'  \n",
    "    Or : virus←{(v/s)←(⍴¨(v←'*'∊¨s)/s←⍵)⍴¨'*'⋄s}  \n",
    "    Would you have a better solution? Thanks\n",
    "</pre>    \n",
    "\n",
    "<a target=\"_blank\" rel=\"noopener noreferrer\" href=\"https://www.youtube.com/channel/UCIveI1ySN5FBe4GyiIJCDig\">Schraf : Maths-info</a>"
   ]
  },
  {
   "cell_type": "markdown",
   "metadata": {},
   "source": [
    "First, let's define some inputs:"
   ]
  },
  {
   "cell_type": "code",
   "execution_count": 1,
   "metadata": {},
   "outputs": [],
   "source": [
    "small   ← 'ab' 'c*dD' 'eEE*' '**' 'h'\n",
    "MakeArg ← {⍺←42 ⋄ ⎕RL←⍺ ⋄ (⎕A,'*')⊂⍤⌷⍤0 99⍨?∘27¨(?⍵⍴10)}\n",
    "medium  ← MakeArg 1000\n",
    "large   ← MakeArg 100000"
   ]
  },
  {
   "cell_type": "markdown",
   "metadata": {},
   "source": [
    "I am going to rephrase Schraf's solution slightly, to my own taste:"
   ]
  },
  {
   "cell_type": "code",
   "execution_count": 2,
   "metadata": {},
   "outputs": [
    {
     "data": {
      "text/html": [
       "<span style=\"white-space:pre; font-family: monospace\">┌──┬────┬────┬──┬─┐\n",
       "│ab│****│****│**│h│\n",
       "└──┴────┴────┴──┴─┘\n",
       "</span>"
      ]
     },
     "execution_count": 2,
     "metadata": {},
     "output_type": "execute_result"
    }
   ],
   "source": [
    "Schraf ← {s←⍵ ⋄ m←⍺∘∊¨s ⋄ (m⌿s)←m⌿⍴∘⍺¨≢¨s ⋄ s}\n",
    "'*' Schraf small"
   ]
  },
  {
   "cell_type": "markdown",
   "metadata": {},
   "source": [
    "For some people, using a guard might feel more natural if we have to apply to each of a nested vector:"
   ]
  },
  {
   "cell_type": "code",
   "execution_count": 3,
   "metadata": {},
   "outputs": [
    {
     "data": {
      "text/html": [
       "<span style=\"white-space:pre; font-family: monospace\">┌──┬────┬────┬──┬─┐\n",
       "│ab│****│****│**│h│\n",
       "└──┴────┴────┴──┴─┘\n",
       "</span>"
      ]
     },
     "execution_count": 3,
     "metadata": {},
     "output_type": "execute_result"
    }
   ],
   "source": [
    "Guard ← {⍺∊⍵: ⍺⍴⍨≢⍵ ⋄ ⍵}   ⍝ If there is a star, ≢⍵ stars, else ⍵\n",
    "'*'∘Guard¨ small"
   ]
  },
  {
   "cell_type": "markdown",
   "metadata": {},
   "source": [
    "If it is possible to do so, using flat rectangular arrays can be more performant: "
   ]
  },
  {
   "cell_type": "code",
   "execution_count": 4,
   "metadata": {},
   "outputs": [
    {
     "data": {
      "text/html": [
       "<span style=\"white-space:pre; font-family: monospace\">ab  \n",
       "****\n",
       "****\n",
       "**  \n",
       "h   \n",
       "</span>"
      ]
     },
     "execution_count": 4,
     "metadata": {},
     "output_type": "execute_result"
    }
   ],
   "source": [
    "Flat ← {m←⍺∨/⍤=s←⍵ ⋄ (m⌿s)←m⌿⍺⍴⍤0⍨+/' '≠s ⋄ s}\n",
    "flatsmall ← ↑small\n",
    "'*' Flat flatsmall"
   ]
  },
  {
   "cell_type": "markdown",
   "metadata": {},
   "source": [
    "TryAPL cannot use the runtime user command, so here I paste some pre-computed results. You can make the comparison for yourself by running this notebook on [a native Jupyter system](https://github.com/Dyalog/dyalog-jupyter-kernel)."
   ]
  },
  {
   "cell_type": "markdown",
   "metadata": {},
   "source": [
    "```APL\n",
    "      ]runtime -c \"'*'Schraf small\" \"'*'∘Guard¨small\" \"'*' Flat flatsmall\"\n",
    "```"
   ]
  },
  {
   "cell_type": "markdown",
   "metadata": {},
   "source": [
    "```text\n",
    "  '*'Schraf small    → 3.5E¯6 |   0% ⎕⎕⎕⎕⎕⎕⎕⎕⎕⎕⎕⎕⎕⎕⎕⎕⎕⎕⎕⎕⎕⎕⎕⎕⎕⎕⎕⎕⎕⎕⎕⎕⎕⎕⎕⎕⎕⎕⎕⎕ \n",
    "  '*'∘Guard¨small    → 2.3E¯6 | -34% ⎕⎕⎕⎕⎕⎕⎕⎕⎕⎕⎕⎕⎕⎕⎕⎕⎕⎕⎕⎕⎕⎕⎕⎕⎕⎕               \n",
    "* '*' Flat flatsmall → 3.5E¯6 |   0% ⎕⎕⎕⎕⎕⎕⎕⎕⎕⎕⎕⎕⎕⎕⎕⎕⎕⎕⎕⎕⎕⎕⎕⎕⎕⎕⎕⎕⎕⎕⎕⎕⎕⎕⎕⎕⎕⎕⎕⎕ \n",
    "```"
   ]
  },
  {
   "cell_type": "markdown",
   "metadata": {},
   "source": [
    "... but not always.  \n",
    "Be aware that `]runtime` differences of <10% aren't particularly reliable. This is my assertion, although possibly someone with more knowledge can give a more accurate margin of error."
   ]
  },
  {
   "cell_type": "markdown",
   "metadata": {},
   "source": [
    "Now let's see how medium and large sized inputs compare:"
   ]
  },
  {
   "cell_type": "code",
   "execution_count": 6,
   "metadata": {},
   "outputs": [],
   "source": [
    "flatmed   ← ↑ medium\n",
    "flatlarge ← ↑ large"
   ]
  },
  {
   "cell_type": "markdown",
   "metadata": {},
   "source": [
    "```APL\n",
    "      ]runtime -c \"'*'Schraf medium\" \"'*'∘Guard¨medium\" \"'*' Flat flatmed\"\n",
    "```"
   ]
  },
  {
   "cell_type": "markdown",
   "metadata": {},
   "source": [
    "```text\n",
    "  '*'Schraf medium → 2.0E¯4 |   0% ⎕⎕⎕⎕⎕⎕⎕⎕⎕⎕⎕⎕⎕⎕⎕⎕⎕⎕⎕⎕⎕⎕⎕⎕⎕⎕⎕⎕⎕⎕⎕⎕⎕⎕⎕⎕     \n",
    "  '*'∘Guard¨medium → 2.2E¯4 | +11% ⎕⎕⎕⎕⎕⎕⎕⎕⎕⎕⎕⎕⎕⎕⎕⎕⎕⎕⎕⎕⎕⎕⎕⎕⎕⎕⎕⎕⎕⎕⎕⎕⎕⎕⎕⎕⎕⎕⎕⎕ \n",
    "* '*' Flat flatmed → 1.5E¯4 | -26% ⎕⎕⎕⎕⎕⎕⎕⎕⎕⎕⎕⎕⎕⎕⎕⎕⎕⎕⎕⎕⎕⎕⎕⎕⎕⎕⎕ \n",
    "```"
   ]
  },
  {
   "cell_type": "markdown",
   "metadata": {},
   "source": [
    "```APL\n",
    "      ]runtime -c \"'*'Schraf large\" \"'*'∘Guard¨large\" \"'*' Flat flatlarge\"\n",
    "```"
   ]
  },
  {
   "cell_type": "markdown",
   "metadata": {},
   "source": [
    "```text\n",
    "  '*'Schraf large    → 2.2E¯2 |   0% ⎕⎕⎕⎕⎕⎕⎕⎕⎕⎕⎕⎕⎕⎕⎕⎕⎕⎕⎕⎕⎕⎕⎕⎕⎕⎕⎕⎕⎕⎕⎕⎕⎕⎕⎕⎕⎕    \n",
    "  '*'∘Guard¨large    → 2.4E¯2 |  +7% ⎕⎕⎕⎕⎕⎕⎕⎕⎕⎕⎕⎕⎕⎕⎕⎕⎕⎕⎕⎕⎕⎕⎕⎕⎕⎕⎕⎕⎕⎕⎕⎕⎕⎕⎕⎕⎕⎕⎕⎕ \n",
    "* '*' Flat flatlarge → 1.5E¯2 | -31% ⎕⎕⎕⎕⎕⎕⎕⎕⎕⎕⎕⎕⎕⎕⎕⎕⎕⎕⎕⎕⎕⎕⎕⎕⎕⎕  \n",
    "```"
   ]
  },
  {
   "cell_type": "markdown",
   "metadata": {},
   "source": [
    "Of course there will be extra processing involved if we need a nested result for the flat version."
   ]
  },
  {
   "cell_type": "code",
   "execution_count": 9,
   "metadata": {},
   "outputs": [
    {
     "data": {
      "text/html": [
       "<span style=\"white-space:pre; font-family: monospace\">┌──┬────┬────┬──┬─┐\n",
       "│ab│****│****│**│h│\n",
       "└──┴────┴────┴──┴─┘\n",
       "</span>"
      ]
     },
     "execution_count": 9,
     "metadata": {},
     "output_type": "execute_result"
    }
   ],
   "source": [
    "~∘' '¨↓ '*'Flat ↑small"
   ]
  },
  {
   "cell_type": "markdown",
   "metadata": {},
   "source": [
    "```APL\n",
    "      ]runtime -c \"'*'Schraf large\" \"'*'∘Guard¨large\" \"~∘' '¨↓ '*' Flat ↑large\"\n",
    "```"
   ]
  },
  {
   "cell_type": "markdown",
   "metadata": {},
   "source": [
    "```text\n",
    "  '*'Schraf large         → 2.2E¯2 |  0% ⎕⎕⎕⎕⎕⎕⎕⎕⎕⎕⎕⎕⎕⎕⎕⎕⎕⎕⎕⎕⎕⎕⎕⎕⎕⎕⎕⎕⎕⎕⎕⎕⎕⎕⎕⎕⎕⎕   \n",
    "  '*'∘Guard¨large         → 2.3E¯2 | +4% ⎕⎕⎕⎕⎕⎕⎕⎕⎕⎕⎕⎕⎕⎕⎕⎕⎕⎕⎕⎕⎕⎕⎕⎕⎕⎕⎕⎕⎕⎕⎕⎕⎕⎕⎕⎕⎕⎕⎕⎕ \n",
    "  ~∘' '¨↓ '*' Flat ↑large → 2.2E¯2 |  0% ⎕⎕⎕⎕⎕⎕⎕⎕⎕⎕⎕⎕⎕⎕⎕⎕⎕⎕⎕⎕⎕⎕⎕⎕⎕⎕⎕⎕⎕⎕⎕⎕⎕⎕⎕⎕⎕⎕ \n",
    "```"
   ]
  }
 ],
 "metadata": {
  "kernelspec": {
   "display_name": "Dyalog APL",
   "language": "apl",
   "name": "dyalog-kernel"
  },
  "language_info": {
   "file_extension": ".apl",
   "mimetype": "text/apl",
   "name": "APL"
  }
 },
 "nbformat": 4,
 "nbformat_minor": 2
}
