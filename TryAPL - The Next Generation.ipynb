{
 "cells": [
  {
   "cell_type": "markdown",
   "metadata": {},
   "source": [
    "# TryAPL: The Next Generation"
   ]
  },
  {
   "cell_type": "markdown",
   "metadata": {},
   "source": [
    "### TryAPL is an online environment where people can try Dyalog APL, and also share interactive code samples."
   ]
  },
  {
   "cell_type": "code",
   "execution_count": 1,
   "metadata": {},
   "outputs": [],
   "source": [
    "⍝ Launched in 2012"
   ]
  },
  {
   "cell_type": "markdown",
   "metadata": {},
   "source": [
    "Inspired by [Joel Hough's talk](https://dyalog.tv/Dyalog11/?v=_r1-Q4KxxrA) when he won the Student Competition in 2011"
   ]
  },
  {
   "cell_type": "code",
   "execution_count": 2,
   "metadata": {},
   "outputs": [],
   "source": [
    "⍝ Developed by Brian Becker and the APL Tools Group\n",
    "\n",
    "⍝ Running almost continuously since 2012"
   ]
  },
  {
   "cell_type": "markdown",
   "metadata": {},
   "source": [
    "See also: [The Story of TryAPL](https://dyalog.tv/Dyalog12/?v=9AMj77tuDAg) (AKA TryAPL: Origins)"
   ]
  },
  {
   "cell_type": "markdown",
   "metadata": {},
   "source": [
    "[John Scholes](http://johnscholes.rip/) was an early and eager user, tester, supporter and contributor to TryAPL.\n",
    "Thanks to John, there is life in TryAPL:"
   ]
  },
  {
   "cell_type": "code",
   "execution_count": 1,
   "metadata": {},
   "outputs": [
    {
     "data": {
      "text/html": [
       "<span style=\"white-space:pre; font-family: monospace\">C:\\Program Files\\Dyalog\\Dyalog APL-64 17.1 Unicode\\ws\\dfns.dws saved Sat Feb  9 20:02:46 2019\n",
       "</span>"
      ]
     },
     "execution_count": 1,
     "metadata": {},
     "output_type": "execute_result"
    },
    {
     "data": {
      "text/html": [
       "<span style=\"white-space:pre; font-family: monospace\">{                                        ⍝ John Conway's \"Game of Life\".  \n",
       "     ↑1 ⍵∨.∧3 4=+/,¯1 0 1∘.⊖¯1 0 1∘.⌽⊂⍵  ⍝ Expression for next generation.\n",
       " }                                                                        \n",
       "</span>"
      ]
     },
     "execution_count": 1,
     "metadata": {},
     "output_type": "execute_result"
    },
    {
     "data": {
      "text/html": [
       "<span style=\"white-space:pre; font-family: monospace\">0 0 0 0 0\n",
       "0 0 1 0 0\n",
       "0 1 0 1 0\n",
       "0 1 0 1 0\n",
       "0 0 1 0 0\n",
       "0 0 0 0 0\n",
       "</span>"
      ]
     },
     "execution_count": 1,
     "metadata": {},
     "output_type": "execute_result"
    }
   ],
   "source": [
    ")copy dfns life\n",
    "life\n",
    "(life⍣≡) ¯1⌽¯2⊖↑6 5↑(3 3⍴⍳9)∊2 3 5 8"
   ]
  },
  {
   "cell_type": "markdown",
   "metadata": {},
   "source": [
    "TryAPL is implemented using [MiServer](), and we use the automation server [Jenkins]() for continuous integration.\n",
    "- Updates to TryAPL can be implemented without taking down the site\n",
    "- TryAPL has been running almost 24/7/365 since 2012"
   ]
  },
  {
   "cell_type": "markdown",
   "metadata": {},
   "source": [
    "The look has not changed drastically. However, there are some notable new things..."
   ]
  },
  {
   "cell_type": "code",
   "execution_count": 3,
   "metadata": {},
   "outputs": [],
   "source": [
    "⍝ The center bar can be used to resize the window panes\n",
    "\n",
    "⍝ The primer tooltips can be dragged around\n",
    "\n",
    "⍝ Examples in the primer can be entered into the session by clicking\n",
    "\n",
    "⍝ You can generate hyperlinks to code snippets"
   ]
  },
  {
   "cell_type": "code",
   "execution_count": 21,
   "metadata": {},
   "outputs": [],
   "source": [
    "⍝ TryAPL has a special version of the ]Help user command:"
   ]
  },
  {
   "cell_type": "markdown",
   "metadata": {},
   "source": [
    "Lessons and Tutorials in the Learn tab are all GitHub-hosted [Jupyter Notebooks](https://github.com/Dyalog/dyalog-jupyter-notebooks)"
   ]
  },
  {
   "cell_type": "markdown",
   "metadata": {},
   "source": [
    "Explanations can be given sequentially with code examples:  \n",
    "**Example**  \n",
    "APL's Grade [⍋⍒] functions allow sorting one array by the contents of another array:"
   ]
  },
  {
   "cell_type": "code",
   "execution_count": 7,
   "metadata": {},
   "outputs": [
    {
     "data": {
      "text/html": [
       "<span style=\"white-space:pre; font-family: monospace\">┌────┬───┬───────┬─────┐\n",
       "│Dave│Bob│Charlie│Alice│\n",
       "└────┴───┴───────┴─────┘\n",
       "</span>"
      ]
     },
     "execution_count": 7,
     "metadata": {},
     "output_type": "execute_result"
    }
   ],
   "source": [
    "names ← 'Alice' 'Bob' 'Charlie' 'Dave'\n",
    "ages ← 33 27 32 25\n",
    "names[⍋ages]"
   ]
  },
  {
   "cell_type": "markdown",
   "metadata": {},
   "source": [
    "This is thanks to array-based indexing:  \n",
    "⍋ and ⍒ return the _indices_ of the elements of the sorted array:"
   ]
  },
  {
   "cell_type": "code",
   "execution_count": 17,
   "metadata": {},
   "outputs": [
    {
     "data": {
      "text/html": [
       "<span style=\"white-space:pre; font-family: monospace\">APL\n",
       "</span>"
      ]
     },
     "execution_count": 17,
     "metadata": {},
     "output_type": "execute_result"
    },
    {
     "data": {
      "text/html": [
       "<span style=\"white-space:pre; font-family: monospace\">4 2 3 1\n",
       "</span>"
      ]
     },
     "execution_count": 17,
     "metadata": {},
     "output_type": "execute_result"
    },
    {
     "data": {
      "text/html": [
       "<span style=\"white-space:pre; font-family: monospace\">┌──────────────┬────┬───┬───────┬─────┐\n",
       "│names[4 2 3 1]│Dave│Bob│Charlie│Alice│\n",
       "└──────────────┴────┴───┴───────┴─────┘\n",
       "</span>"
      ]
     },
     "execution_count": 17,
     "metadata": {},
     "output_type": "execute_result"
    }
   ],
   "source": [
    "'APPLE'[1 2 4]\n",
    "⍋ages\n",
    "((⊂⊢),⍎)'names[4 2 3 1]'"
   ]
  },
  {
   "cell_type": "markdown",
   "metadata": {},
   "source": [
    "#### Not only can you give explanations next to code, you could set problem sets:"
   ]
  },
  {
   "cell_type": "code",
   "execution_count": 12,
   "metadata": {},
   "outputs": [],
   "source": [
    "nest ← 1 (2 (3 4)) 5"
   ]
  },
  {
   "cell_type": "markdown",
   "metadata": {},
   "source": [
    "## Q1) With a single multiplication (×) on nest, obtain the result:"
   ]
  },
  {
   "cell_type": "code",
   "execution_count": 1,
   "metadata": {},
   "outputs": [
    {
     "data": {
      "text/html": [
       "<span style=\"white-space:pre; font-family: monospace\">┌─┬───────┬─┐\n",
       "│1│┌─┬───┐│5│\n",
       "│ ││2│6 8││ │\n",
       "│ │└─┴───┘│ │\n",
       "└─┴───────┴─┘\n",
       "</span>"
      ]
     },
     "execution_count": 1,
     "metadata": {},
     "output_type": "execute_result"
    }
   ],
   "source": [
    "⍝ nest × ? :\n",
    "1 (2 (6 8)) 5"
   ]
  },
  {
   "cell_type": "markdown",
   "metadata": {},
   "source": [
    "### Click 'Next' to reveal the answer"
   ]
  },
  {
   "cell_type": "code",
   "execution_count": 14,
   "metadata": {},
   "outputs": [
    {
     "data": {
      "text/html": [
       "<span style=\"white-space:pre; font-family: monospace\">┌─┬───────┬─┐\n",
       "│1│┌─┬───┐│5│\n",
       "│ ││2│6 8││ │\n",
       "│ │└─┴───┘│ │\n",
       "└─┴───────┴─┘\n",
       "</span>"
      ]
     },
     "execution_count": 14,
     "metadata": {},
     "output_type": "execute_result"
    }
   ],
   "source": [
    "nest × 1 (1 2) 1"
   ]
  },
  {
   "cell_type": "markdown",
   "metadata": {},
   "source": [
    "Explanations can be built up, scaffolding around students' existing knowledge, with the added benefit of interaction without having to switch between the page and the session"
   ]
  },
  {
   "cell_type": "markdown",
   "metadata": {},
   "source": [
    "Say we want to add up a list of numbers 1 2 3 4 5 6 7 8:"
   ]
  },
  {
   "cell_type": "code",
   "execution_count": 4,
   "metadata": {},
   "outputs": [
    {
     "data": {
      "text/html": [
       "<span style=\"white-space:pre; font-family: monospace\">36\n",
       "</span>"
      ]
     },
     "execution_count": 4,
     "metadata": {},
     "output_type": "execute_result"
    }
   ],
   "source": [
    "1 + 2 + 3 + 4 + 5 + 6 + 7 + 8"
   ]
  },
  {
   "cell_type": "markdown",
   "metadata": {},
   "source": [
    "Typing this becomes tedious with lots of numbers..."
   ]
  },
  {
   "cell_type": "code",
   "execution_count": 5,
   "metadata": {},
   "outputs": [
    {
     "data": {
      "text/html": [
       "<span style=\"white-space:pre; font-family: monospace\">36\n",
       "</span>"
      ]
     },
     "execution_count": 5,
     "metadata": {},
     "output_type": "execute_result"
    }
   ],
   "source": [
    "+/1 2 3 4 5 6 7 8"
   ]
  },
  {
   "cell_type": "markdown",
   "metadata": {},
   "source": [
    "You know, if its just a set of increasing integers we don't even have to type the whole list out:"
   ]
  },
  {
   "cell_type": "code",
   "execution_count": 6,
   "metadata": {},
   "outputs": [
    {
     "data": {
      "text/html": [
       "<span style=\"white-space:pre; font-family: monospace\">36\n",
       "</span>"
      ]
     },
     "execution_count": 6,
     "metadata": {},
     "output_type": "execute_result"
    }
   ],
   "source": [
    "+/⍳8"
   ]
  },
  {
   "cell_type": "markdown",
   "metadata": {},
   "source": [
    "Much better 😊"
   ]
  },
  {
   "cell_type": "markdown",
   "metadata": {},
   "source": [
    "There are several ways to create and interact with Jupyter Notebooks:  "
   ]
  },
  {
   "cell_type": "markdown",
   "metadata": {},
   "source": [
    "Adám Brudzewsky gave a [previous webinar](https://dyalog.tv/Webinar/?v=P7rGW5ZMq9w) which explains how to install Jupyter Notebooks with Anaconda"
   ]
  },
  {
   "cell_type": "markdown",
   "metadata": {},
   "source": [
    "You can also [install Jupyter with pip](https://jupyter.readthedocs.io/en/latest/install.html) if you don't want the (almost 5GB) Anaconda package"
   ]
  },
  {
   "cell_type": "markdown",
   "metadata": {},
   "source": [
    "There is also [Jupyter Lab](https://jupyterlab.readthedocs.io/en/stable/getting_started/installation.html)\n",
    "\n",
    "And [Jupyter Hub](https://jupyterhub.readthedocs.io/en/stable/quickstart.html)"
   ]
  }
 ],
 "metadata": {
  "kernelspec": {
   "display_name": "Dyalog APL",
   "language": "apl",
   "name": "dyalog-kernel"
  },
  "language_info": {
   "file_extension": ".apl",
   "mimetype": "text/apl",
   "name": "APL"
  }
 },
 "nbformat": 4,
 "nbformat_minor": 2
}
