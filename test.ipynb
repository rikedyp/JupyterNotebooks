{
 "cells": [
  {
   "cell_type": "markdown",
   "metadata": {},
   "source": [
    "# Test cases for TryAPL"
   ]
  },
  {
   "cell_type": "markdown",
   "metadata": {},
   "source": [
    "|This is a | test table\n",
    "|---|:---:|\n",
    "|Okay|wow|\n",
    "|so cool|amazing|"
   ]
  },
  {
   "cell_type": "markdown",
   "metadata": {},
   "source": [
    "1. first\n",
    "1. second\n",
    "1. third item in this numbered list"
   ]
  },
  {
   "cell_type": "markdown",
   "metadata": {},
   "source": [
    "Below will try block quotes\n",
    "\n",
    "> this is a block quote\n",
    "---\n",
    "> this is one  \n",
    "  with multple lines"
   ]
  },
  {
   "cell_type": "markdown",
   "metadata": {},
   "source": [
    "#### YT video\n",
    "Cannot be embedded directly, but we can have a linked image\n",
    "\n",
    "<a href=\"http://www.youtube.com/watch?feature=player_embedded&v=a9xAKttWgP4\n",
    "\" target=\"_blank\"><img src=\"http://img.youtube.com/vi/a9xAKttWgP4/0.jpg\" \n",
    "alt=\"IMAGE ALT TEXT HERE\" width=\"240\" height=\"180\" border=\"10\" /></a>\n",
    "\n"
   ]
  },
  {
   "cell_type": "code",
   "execution_count": 2,
   "metadata": {},
   "outputs": [
    {
     "data": {
      "text/html": [
       "<span style=\"white-space:pre; font-family: monospace\">┌───────┬──────────┬──────────────┐\n",
       "│1 2 3 4│2 4 6 8 10│3 6 9 12 15 18│\n",
       "└───────┴──────────┴──────────────┘\n",
       "</span>"
      ]
     },
     "execution_count": 2,
     "metadata": {},
     "output_type": "execute_result"
    }
   ],
   "source": [
    "1 2 3×⍳¨ 4 5 6 ⍝ APL"
   ]
  },
  {
   "cell_type": "code",
   "execution_count": 3,
   "metadata": {},
   "outputs": [
    {
     "data": {
      "text/html": [
       "<span style=\"white-space:pre; font-family: monospace\">┌───────┬──────────┬──────────────┐\n",
       "│1 2 3 4│2 4 6 8 10│3 6 9 12 15 18│\n",
       "└───────┴──────────┴──────────────┘\n",
       "</span>"
      ]
     },
     "execution_count": 3,
     "metadata": {},
     "output_type": "execute_result"
    },
    {
     "name": "stderr",
     "output_type": "stream",
     "text": [
      "LENGTH ERROR: Mismatched left and right argument shapes\n",
      "      1 2+2 3 4 ⍝ Error\n",
      "         ∧\n"
     ]
    }
   ],
   "source": [
    "1 2 + 2 3 4 ⍝ Error"
   ]
  },
  {
   "cell_type": "markdown",
   "metadata": {},
   "source": [
    "Multiline dfn"
   ]
  },
  {
   "cell_type": "code",
   "execution_count": 4,
   "metadata": {},
   "outputs": [],
   "source": [
    "]dinput\n",
    "Dfn←{\n",
    "r←2×⍵\n",
    "⍵×2\n",
    "}"
   ]
  },
  {
   "cell_type": "code",
   "execution_count": 5,
   "metadata": {},
   "outputs": [
    {
     "data": {
      "text/html": [
       "<span style=\"white-space:pre; font-family: monospace\">8\n",
       "</span>"
      ]
     },
     "execution_count": 5,
     "metadata": {},
     "output_type": "execute_result"
    }
   ],
   "source": [
    "Dfn 4"
   ]
  },
  {
   "cell_type": "markdown",
   "metadata": {},
   "source": [
    "Multiline Tradfn"
   ]
  },
  {
   "cell_type": "code",
   "execution_count": 6,
   "metadata": {},
   "outputs": [],
   "source": [
    "∇ r←Tradfn arg\n",
    "⎕←'ok'\n",
    "r←'arg:' (arg)\n",
    "∇"
   ]
  },
  {
   "cell_type": "code",
   "execution_count": 7,
   "metadata": {},
   "outputs": [
    {
     "data": {
      "text/html": [
       "<span style=\"white-space:pre; font-family: monospace\">ok\n",
       "┌────┬─────┐\n",
       "│arg:│Hello│\n",
       "└────┴─────┘\n",
       "</span>"
      ]
     },
     "execution_count": 7,
     "metadata": {},
     "output_type": "execute_result"
    }
   ],
   "source": [
    "Tradfn 'Hello'"
   ]
  },
  {
   "cell_type": "markdown",
   "metadata": {},
   "source": [
    "Multi line code cell"
   ]
  },
  {
   "cell_type": "code",
   "execution_count": 8,
   "metadata": {},
   "outputs": [
    {
     "data": {
      "text/html": [
       "<span style=\"white-space:pre; font-family: monospace\">1 3 5 7 9\n",
       "</span>"
      ]
     },
     "execution_count": 8,
     "metadata": {},
     "output_type": "execute_result"
    }
   ],
   "source": [
    "a←3 3⍴⍳9\n",
    "b←a∊1 3 5 7 9\n",
    "a[⍸b]"
   ]
  },
  {
   "cell_type": "markdown",
   "metadata": {},
   "source": [
    "### Markdown: latex & code\n",
    "```\n",
    "$echo some non APL code\n",
    "```\n",
    "\n",
    "```APL\n",
    "      +/⍳10\n",
    "1 2 3 4 5 6 7 8 9 10\n",
    "```\n",
    "\n",
    "Here is sum $\\sum_{n=1}^{N} n$ inline latex\n",
    "\n",
    "Block latex below\n",
    "$$\\prod_{i=1}^{N} n$$"
   ]
  },
  {
   "cell_type": "markdown",
   "metadata": {},
   "source": [
    "### Markdown: image with absolute URL\n",
    "![abs img](https://raw.githubusercontent.com/rikedyp/JupyterNotebooks/master/img/savage.png)"
   ]
  },
  {
   "cell_type": "markdown",
   "metadata": {},
   "source": [
    "### Markdown: multiple images with absolute URLs\n",
    "![abs img](https://raw.githubusercontent.com/rikedyp/JupyterNotebooks/master/img/savage.png)\n",
    "<img src=\"https://raw.githubusercontent.com/rikedyp/JupyterNotebooks/master/img/img.png\" width=\"20%\">"
   ]
  },
  {
   "cell_type": "markdown",
   "metadata": {},
   "source": [
    "### Markdown: single image\n",
    "![test img](./img/savage.png)"
   ]
  },
  {
   "cell_type": "markdown",
   "metadata": {},
   "source": [
    "### Markdown: HTML & multiple images\n",
    "![test img](./img/savage.png)\n",
    "\n",
    "<img src=\"./img/img.png\" width=\"20%\">"
   ]
  },
  {
   "cell_type": "code",
   "execution_count": null,
   "metadata": {},
   "outputs": [],
   "source": []
  }
 ],
 "metadata": {
  "kernelspec": {
   "display_name": "Dyalog APL",
   "language": "apl",
   "name": "dyalog-kernel"
  },
  "language_info": {
   "file_extension": ".apl",
   "mimetype": "text/apl",
   "name": "APL"
  }
 },
 "nbformat": 4,
 "nbformat_minor": 2
}
